{
 "cells": [
  {
   "cell_type": "code",
   "execution_count": null,
   "metadata": {
    "collapsed": false
   },
   "outputs": [
    {
     "name": "stdout",
     "output_type": "stream",
     "text": [
      "Ingrese un texto para traducir: El contenido fue muy entendible y concreto\n",
      "Resultado: ['The', 'content', 'was', 'very', 'understandable', 'and', 'concrete']\n",
      "['neutral']\n",
      "0.0\n",
      "\n",
      "\n",
      "Ingrese un texto para traducir: Tenian completo todo lo referente a su presentación\n",
      "Resultado: ['They', 'had', 'everything', 'related', 'to', 'their', 'presentation']\n",
      "['neutral']\n",
      "0.0\n",
      "\n",
      "\n",
      "Ingrese un texto para traducir: Es entendible\n",
      "Resultado: [\"It's\", 'understandable']\n",
      "['neutral']\n",
      "0.0\n",
      "\n",
      "\n",
      "Ingrese un texto para traducir: Entendi un poco de la problemática\n",
      "Resultado: ['I', 'understood', 'a', 'little', 'about', 'the', 'problem']\n",
      "['negativo']\n",
      "-0.2857142857142857\n",
      "\n",
      "\n",
      "Ingrese un texto para traducir: Falta un poco de introducción\n",
      "Resultado: ['Missing', 'a', 'bit', 'of', 'introduction']\n",
      "['negativo']\n",
      "-0.4\n",
      "\n",
      "\n",
      "Ingrese un texto para traducir: Se entiende poco, pero deben estar seguros de sis mismo\n",
      "Resultado: ['Little', 'is', 'understood,', 'but', 'they', 'must', 'be', 'sure', 'of', 'themselves']\n",
      "['neutral']\n",
      "0.0\n",
      "\n",
      "\n"
     ]
    }
   ],
   "source": [
    "import requests\n",
    "import nltk\n",
    "from nltk.corpus import stopwords\n",
    "from afinn import Afinn\n",
    "af = Afinn()\n",
    "set(stopwords.words('english'))\n",
    "stop_words = set(stopwords.words('english')) \n",
    "def promediar(scores):\n",
    "    sum=0.0\n",
    "    for i in range(0,len(scores)):\n",
    "        sum=sum+scores[i]\n",
    "    return sum/len(scores)\n",
    "\n",
    "def Traduccion(source, target, text):\n",
    "\tparametros = {'sl': source, 'tl': target, 'q': text}\n",
    "\tcabeceras = {\"Charset\":\"UTF-8\",\"User-Agent\":\"AndroidTranslate/5.3.0.RC02.130475354-53000263 5.1 phone TRANSLATE_OPM5_TEST_1\"}\n",
    "\turl = \"https://translate.google.com/translate_a/single?client=at&dt=t&dt=ld&dt=qca&dt=rm&dt=bd&dj=1&hl=es-ES&ie=UTF-8&oe=UTF-8&inputm=2&otf=2&iid=1dd3b944-fa62-4b55-b330-74909a99969e\"\n",
    "\tresponse = requests.post(url, data=parametros, headers=cabeceras)\n",
    "\tif response.status_code == 200:\n",
    "\t\tfor x in response.json()['sentences']:\n",
    "\t\t\treturn x['trans']\n",
    "\telse:\n",
    "\t\treturn \"Ocurrió un error\"\n",
    "\n",
    "while True:\n",
    "\ttext = input(\"Ingrese un texto para traducir: \")\n",
    "\tfiltered_sentence = []\n",
    "\tif text == \"SALIR_CONSOLE\":\n",
    "\t\tbreak\n",
    "\telse:\n",
    "\t\trespuesta = Traduccion(\"es\", \"en\", text)\n",
    "\t\ttokens = [t for t in respuesta.split()] \n",
    "\t\tfor w in tokens: \n",
    "\t\t\tif w not in stop_words: \n",
    "\t\t\t\tfiltered_sentence.append(w) \n",
    "\t\tsentiment_scores = [af.score(article) for article in tokens]\n",
    "\t\tscores=promediar(sentiment_scores)\n",
    "\t\tsentiment_category = ['positivo' if scores > 0 else 'negativo' if scores <0 else 'neutral']\n",
    "\t\tprint(\"Resultado: \" + str(tokens))\n",
    "\t\tprint((sentiment_category))\n",
    "\t\tprint(scores)\n",
    "\t\tprint(\"\\n\")\n",
    "        "
   ]
  }
 ],
 "metadata": {
  "kernelspec": {
   "display_name": "Python 3",
   "language": "python",
   "name": "python3"
  },
  "language_info": {
   "codemirror_mode": {
    "name": "ipython",
    "version": 3
   },
   "file_extension": ".py",
   "mimetype": "text/x-python",
   "name": "python",
   "nbconvert_exporter": "python",
   "pygments_lexer": "ipython3",
   "version": "3.5.3"
  }
 },
 "nbformat": 4,
 "nbformat_minor": 2
}
